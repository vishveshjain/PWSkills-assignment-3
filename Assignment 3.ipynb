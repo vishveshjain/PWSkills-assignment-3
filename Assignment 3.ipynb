{
 "cells": [
  {
   "cell_type": "markdown",
   "id": "009ee016-2c02-45e7-8f5b-cc1dd390449c",
   "metadata": {},
   "source": [
    "Q1. Explain with an example each when to use a for loop and a while loop?"
   ]
  },
  {
   "cell_type": "markdown",
   "id": "c9adad68-dd5d-49fe-8ba4-12f22a0b8c82",
   "metadata": {},
   "source": [
    "Ans: For loops are used when you have a known number of iterations or when you want to iterate through a sequence (list, tuple, string, etc.) to perform an action for each item in the sequence.\n",
    "\n",
    "Example:"
   ]
  },
  {
   "cell_type": "code",
   "execution_count": 2,
   "id": "fec16017-652d-4647-b46e-cc1fbdf2801c",
   "metadata": {},
   "outputs": [
    {
     "name": "stdout",
     "output_type": "stream",
     "text": [
      "0\n",
      "1\n",
      "2\n",
      "3\n",
      "4\n",
      "5\n",
      "6\n",
      "7\n",
      "8\n",
      "9\n"
     ]
    }
   ],
   "source": [
    "\n",
    "# print the numbers 0 to 9\n",
    "for i in range(10):\n",
    "    print(i)\n"
   ]
  },
  {
   "cell_type": "markdown",
   "id": "b383b455-5b65-4ae6-bb42-40da68cb9ca4",
   "metadata": {},
   "source": [
    "While loops are used when you want to keep executing a block of code as long as a certain condition is met.\n",
    "\n",
    "Example:"
   ]
  },
  {
   "cell_type": "code",
   "execution_count": 3,
   "id": "6d999e48-52d0-4b19-9938-60e7234c0659",
   "metadata": {},
   "outputs": [
    {
     "name": "stdout",
     "output_type": "stream",
     "text": [
      "0\n",
      "1\n",
      "2\n",
      "3\n",
      "4\n",
      "5\n",
      "6\n",
      "7\n",
      "8\n",
      "9\n"
     ]
    }
   ],
   "source": [
    "\n",
    "# print the numbers 0 to 9\n",
    "i = 0\n",
    "while i < 10:\n",
    "    print(i)\n",
    "    i += 1\n"
   ]
  },
  {
   "cell_type": "raw",
   "id": "247e31b1-160e-409d-851e-43f90be85106",
   "metadata": {},
   "source": [
    "It is important to keep in mind that while loops can lead to infinite loops if the termination condition is never met, so it's crucial to make sure that the condition eventually becomes false."
   ]
  },
  {
   "cell_type": "markdown",
   "id": "23b68b55-e1d3-4322-ae6e-5138dc1b59eb",
   "metadata": {},
   "source": [
    "Q2. Write a python program to print the sum and product of the first 10 natural numbers using for and while loop?"
   ]
  },
  {
   "cell_type": "markdown",
   "id": "d9f31cf5-9154-474b-90f4-877103adc187",
   "metadata": {},
   "source": [
    "Ans: Here's an example using a for loop to print the sum and product of the first 10 natural numbers:"
   ]
  },
  {
   "cell_type": "code",
   "execution_count": 4,
   "id": "6d976806-b6b6-4a6f-941b-a46779eec954",
   "metadata": {},
   "outputs": [
    {
     "name": "stdout",
     "output_type": "stream",
     "text": [
      "The sum of the first 10 natural numbers is: 55\n",
      "The product of the first 10 natural numbers is: 3628800\n"
     ]
    }
   ],
   "source": [
    "\n",
    "sum = 0\n",
    "product = 1\n",
    "\n",
    "for i in range(1, 11):\n",
    "    sum += i\n",
    "    product *= i\n",
    "\n",
    "print(\"The sum of the first 10 natural numbers is:\", sum)\n",
    "print(\"The product of the first 10 natural numbers is:\", product)\n"
   ]
  },
  {
   "cell_type": "markdown",
   "id": "4713135e-436e-42e7-8962-43e0f919f151",
   "metadata": {},
   "source": [
    "And here's an example using a while loop:"
   ]
  },
  {
   "cell_type": "code",
   "execution_count": 5,
   "id": "ece53afa-7fa1-472d-a3f6-80f80d943a43",
   "metadata": {},
   "outputs": [
    {
     "name": "stdout",
     "output_type": "stream",
     "text": [
      "The sum of the first 10 natural numbers is: 55\n",
      "The product of the first 10 natural numbers is: 3628800\n"
     ]
    }
   ],
   "source": [
    "\n",
    "sum = 0\n",
    "product = 1\n",
    "i = 1\n",
    "\n",
    "while i <= 10:\n",
    "    sum += i\n",
    "    product *= i\n",
    "    i += 1\n",
    "\n",
    "print(\"The sum of the first 10 natural numbers is:\", sum)\n",
    "print(\"The product of the first 10 natural numbers is:\", product)\n"
   ]
  },
  {
   "cell_type": "markdown",
   "id": "7233b4a8-50b2-4163-9f73-b1c31eb1d9bd",
   "metadata": {},
   "source": [
    "Q3. Create a python program to compute the electricity bill for a household. The per-unit charges in rupees are as follows: For the first 100 units, the user will be charged Rs. 4.5 per unit, for the next 100 units, the user will be charged Rs. 6 per unit, and for the next 100 units, the user will be charged Rs. 10 per unit, After 300 units and above the user will be charged Rs. 20 per unit. You are required to take the units of electricity consumed in a month from the user as input. Your program must pass this test case: when the unit of electricity consumed by the user in a month is 310, the total electricity bill should be 2250."
   ]
  },
  {
   "cell_type": "code",
   "execution_count": 6,
   "id": "7b6d85e9-c30b-41c2-82ce-c6cb426ea9f4",
   "metadata": {},
   "outputs": [
    {
     "name": "stdin",
     "output_type": "stream",
     "text": [
      "Enter the units of electricity consumed:  350\n"
     ]
    },
    {
     "name": "stdout",
     "output_type": "stream",
     "text": [
      "The total electricity bill is: Rs. 3050.0\n"
     ]
    }
   ],
   "source": [
    "\n",
    "units = int(input(\"Enter the units of electricity consumed: \"))\n",
    "\n",
    "if units <= 100:\n",
    "    bill = units * 4.5\n",
    "elif units <= 200:\n",
    "    bill = 100 * 4.5 + (units - 100) * 6\n",
    "elif units <= 300:\n",
    "    bill = 100 * 4.5 + 100 * 6 + (units - 200) * 10\n",
    "else:\n",
    "    bill = 100 * 4.5 + 100 * 6 + 100 * 10 + (units - 300) * 20\n",
    "\n",
    "print(\"The total electricity bill is: Rs.\", bill)\n"
   ]
  },
  {
   "cell_type": "markdown",
   "id": "2eaef114-9bf0-404c-93ed-7971e0fe09b7",
   "metadata": {},
   "source": [
    "Q4. Create a list of numbers from 1 to 100. Use for loop and while loop to calculate the cube of each number and if the cube of that number is divisible by 4 or 5 then append that number in a list and print that list."
   ]
  },
  {
   "cell_type": "markdown",
   "id": "479c7b4e-6ed1-4131-a16b-8e0f86eb6188",
   "metadata": {},
   "source": [
    "Ans: Here is a program that uses a for loop to create a list of numbers from 1 to 100, and then calculates the cube of each number and appends the numbers that are divisible by 4 or 5 to a new list:"
   ]
  },
  {
   "cell_type": "code",
   "execution_count": 7,
   "id": "641f4367-6b00-484c-8d57-913b508fc123",
   "metadata": {},
   "outputs": [
    {
     "name": "stdout",
     "output_type": "stream",
     "text": [
      "The list of cubes that are divisible by 4 or 5: [8, 64, 125, 216, 512, 1000, 1728, 2744, 3375, 4096, 5832, 8000, 10648, 13824, 15625, 17576, 21952, 27000, 32768, 39304, 42875, 46656, 54872, 64000, 74088, 85184, 91125, 97336, 110592, 125000, 140608, 157464, 166375, 175616, 195112, 216000, 238328, 262144, 274625, 287496, 314432, 343000, 373248, 405224, 421875, 438976, 474552, 512000, 551368, 592704, 614125, 636056, 681472, 729000, 778688, 830584, 857375, 884736, 941192, 1000000]\n"
     ]
    }
   ],
   "source": [
    "\n",
    "numbers = []\n",
    "cube_divisible = []\n",
    "\n",
    "for i in range(1, 101):\n",
    "    numbers.append(i)\n",
    "    cube = i ** 3\n",
    "    if cube % 4 == 0 or cube % 5 == 0:\n",
    "        cube_divisible.append(cube)\n",
    "\n",
    "print(\"The list of cubes that are divisible by 4 or 5:\", cube_divisible)\n"
   ]
  },
  {
   "cell_type": "markdown",
   "id": "c04c7fd6-7a4b-46be-aaee-d6537a8ef2db",
   "metadata": {},
   "source": [
    "And here is the same program using a while loop:"
   ]
  },
  {
   "cell_type": "code",
   "execution_count": 8,
   "id": "a55cda8a-cbbc-4cd2-a4c2-2619ec2a8b34",
   "metadata": {},
   "outputs": [
    {
     "name": "stdout",
     "output_type": "stream",
     "text": [
      "The list of cubes that are divisible by 4 or 5: [8, 64, 125, 216, 512, 1000, 1728, 2744, 3375, 4096, 5832, 8000, 10648, 13824, 15625, 17576, 21952, 27000, 32768, 39304, 42875, 46656, 54872, 64000, 74088, 85184, 91125, 97336, 110592, 125000, 140608, 157464, 166375, 175616, 195112, 216000, 238328, 262144, 274625, 287496, 314432, 343000, 373248, 405224, 421875, 438976, 474552, 512000, 551368, 592704, 614125, 636056, 681472, 729000, 778688, 830584, 857375, 884736, 941192, 1000000]\n"
     ]
    }
   ],
   "source": [
    "\n",
    "numbers = []\n",
    "cube_divisible = []\n",
    "i = 1\n",
    "\n",
    "while i <= 100:\n",
    "    numbers.append(i)\n",
    "    cube = i ** 3\n",
    "    if cube % 4 == 0 or cube % 5 == 0:\n",
    "        cube_divisible.append(cube)\n",
    "    i += 1\n",
    "\n",
    "print(\"The list of cubes that are divisible by 4 or 5:\", cube_divisible)\n"
   ]
  },
  {
   "cell_type": "markdown",
   "id": "ef00fe4f-0b41-452a-9132-0a0068638c56",
   "metadata": {},
   "source": [
    "Q5. Write a program to filter count vowels in the below-given string. string = \"I want to become a data scientist\""
   ]
  },
  {
   "cell_type": "code",
   "execution_count": 9,
   "id": "6e3048b6-a272-48ca-b041-fdb7337f7ec7",
   "metadata": {},
   "outputs": [
    {
     "name": "stdout",
     "output_type": "stream",
     "text": [
      "The number of vowels in the string is: 12\n"
     ]
    }
   ],
   "source": [
    "\n",
    "string = \"I want to become a data scientist\"\n",
    "vowels = \"aeiouAEIOU\"\n",
    "count = 0\n",
    "\n",
    "for char in string:\n",
    "    if char in vowels:\n",
    "        count += 1\n",
    "\n",
    "print(\"The number of vowels in the string is:\", count)\n"
   ]
  },
  {
   "cell_type": "code",
   "execution_count": null,
   "id": "6c29d800-1595-448c-9ff2-f5ff7dc7b165",
   "metadata": {},
   "outputs": [],
   "source": []
  }
 ],
 "metadata": {
  "kernelspec": {
   "display_name": "Python 3 (ipykernel)",
   "language": "python",
   "name": "python3"
  },
  "language_info": {
   "codemirror_mode": {
    "name": "ipython",
    "version": 3
   },
   "file_extension": ".py",
   "mimetype": "text/x-python",
   "name": "python",
   "nbconvert_exporter": "python",
   "pygments_lexer": "ipython3",
   "version": "3.10.8"
  }
 },
 "nbformat": 4,
 "nbformat_minor": 5
}
